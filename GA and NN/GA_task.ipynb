{
 "cells": [
  {
   "cell_type": "markdown",
   "metadata": {
    "ein.tags": "worksheet-0",
    "slideshow": {
     "slide_type": "-"
    }
   },
   "source": [
    "# Genetic Algorithms Introductory Notebook:"
   ]
  },
  {
   "cell_type": "markdown",
   "metadata": {
    "ein.tags": "worksheet-0",
    "slideshow": {
     "slide_type": "-"
    }
   },
   "source": [
    "# Task 1: Extremizing A polynomial within an Interval\n",
    "### The Following Code Returns a Polynomial Function given a set of coefficients\n",
    "\n",
    "## Example:\n",
    "$\\left[ \\begin{array} ,1&2&3 \\end{array} \\right]\\rightarrow x^2 + 2x + 3 $\n"
   ]
  },
  {
   "cell_type": "code",
   "execution_count": 17,
   "metadata": {
    "autoscroll": false,
    "collapsed": false,
    "ein.hycell": false,
    "ein.tags": "worksheet-0",
    "slideshow": {
     "slide_type": "-"
    }
   },
   "outputs": [],
   "source": [
    "%matplotlib inline\n",
    "import numpy as np\n",
    "import matplotlib.pyplot as plt\n",
    "\n",
    "def polynomial_creator(*coeffs):\n",
    "    \"\"\" coefficients are in the form a_n, a_n_1, ... a_1, a_0\n",
    "    \"\"\"\n",
    "    def polynomial(x):\n",
    "        res = coeffs[0]\n",
    "        for i in range(1, len(coeffs)):\n",
    "            res = res * x + coeffs[i]\n",
    "        return res\n",
    "    return polynomial\n",
    "\n",
    "def polynomial_plotter(polynomial, domain, num_points=100, show_plot = True):\n",
    "    \"\"\" plots the polynomial in the given range with the give number of points\n",
    "    \"\"\"\n",
    "    start, stop = domain\n",
    "    points = np.linspace(start, stop,num_points)\n",
    "    func_values = polynomial(points)\n",
    "    plt.plot(points, func_values)\n",
    "    if show_plot:\n",
    "        plt.show()"
   ]
  },
  {
   "cell_type": "code",
   "execution_count": 19,
   "metadata": {
    "autoscroll": false,
    "collapsed": false,
    "ein.hycell": false,
    "ein.tags": "worksheet-0",
    "slideshow": {
     "slide_type": "-"
    }
   },
   "outputs": [
    {
     "data": {
      "image/png": "[encoded data removed]",
      "text/plain": [
       "<Figure size 432x288 with 1 Axes>"
      ]
     },
     "metadata": {},
     "output_type": "display_data"
    }
   ],
   "source": [
    "my_polynomial = polynomial_creator(3,-10,-150,3)\n",
    "polynomial_plotter(my_polynomial, [1, 10])\n"
   ]
  },
  {
   "cell_type": "markdown",
   "metadata": {
    "ein.tags": "worksheet-0",
    "slideshow": {
     "slide_type": "-"
    }
   },
   "source": [
    "### In a similar manner fill in the code below to return a multivariate function\n",
    "\n",
    "## Example:\n",
    "$\\left[ \\begin{array} ,1&2&3 \\end{array} \\right] , \\left[ \\begin{array} ,18&14&6&3 \\end{array} \\right] , \\left[ \\begin{array} ,12&3 \\end{array} \\right] \\rightarrow f(x_1, x_2, x_3) = x_1^2 + 2x_1 + 3 + 18x_2^4 + 14x_2^3 + 6x_2^2 + 3x + 12x_3^2 + 3x $\n",
    "\n",
    "### NOTE : The value of constant is given as the value of the first variable\n",
    "Hint: You may use the polynomial creator function defined above\n",
    "\n",
    "\n",
    "#### Optional/Bonus : Find a method to plot it\n",
    "[How to plot multivariate functions](http://geog.uoregon.edu/bartlein/courses/geog495/lec05.html)\n"
   ]
  },
  {
   "cell_type": "code",
   "execution_count": 21,
   "metadata": {
    "autoscroll": false,
    "collapsed": false,
    "ein.hycell": false,
    "ein.tags": "worksheet-0",
    "slideshow": {
     "slide_type": "-"
    }
   },
   "outputs": [],
   "source": [
    "def multi_creator(*coefs):\n",
    "    def multivariate_function(x):\n",
    "        pass # TODO Write fuction here\n",
    "\n",
    "    return multinomial_function\n",
    "\n"
   ]
  },
  {
   "cell_type": "markdown",
   "metadata": {
    "ein.tags": "worksheet-0",
    "slideshow": {
     "slide_type": "-"
    }
   },
   "source": [
    "# Now lets extremize it! (Using genetic algoritms)\n",
    "Problem : Find the maxima of this function using genetic algos\n",
    "For this we require\n",
    "1. Fitness function\n",
    "2. An encoder function\n",
    "3. A mating function\n",
    "\n",
    "## Notations\n",
    "1. $n$ : The number of variables in the multivariate funtion\n",
    "2. $m$ : Size of the population\n",
    "3. $R_i$ : Range of the ith variable, as a tuple with max and min\n",
    "\n",
    "## Fitness function\n",
    "This is the function that our model will try to maximize. Since our goal is to maximize the multivariable polynomial, it will become our fitness function\n",
    "\n",
    "## Encoder function\n",
    "This functions takes in input genes and transforms its into meaningfull values of the variables.\n",
    "#### Genes\n",
    "For the purpose of this excercise, genes of the population are represented 2D numpy array of shape (n,m). **Our genes will only take values between -5 and 5**\n",
    "#### Example\n",
    "1. Polynomial $x_1 + x_2^2 + x_3 - x_3^3$\n",
    "2. Population size :m=5\n",
    "3. Ranges : (-3, 4), (-1, 2), (3, 9)\n",
    "##### Input (Gene Pool)\n",
    "$\\left[ \\begin{array}4.9&2.8&-3.4\\\\-3.5&1.4&4.5\\\\0.6&-3&1.8\\\\0.55&3.8&4.0\\\\-2& 2.6& 3 \\end{array}\\right]$\n",
    "##### Output (Fitness Values)\n",
    "$\\left[ \\begin{array} -52.413 & \\\\\n",
    "-650.906 & \\\\\n",
    "-346.734 & \\\\\n",
    "-580.729 & \\\\\n",
    "-466.014 & \\\\\n",
    "-26.000 & \\\\\n",
    "\\end{array}\\right]$\n",
    "\n",
    "## Mating Funtion\n",
    "This consists of :\n",
    "1. Mutation Function - Input = Gene : Output = Slightly modified gene\n",
    "2. Crossover function - Input = 2 genes : Output =  Crossovered genes\n",
    "\n",
    "Of each gene pool only the top few are selected and mated to get the gene pool of the next iteration.\n",
    "\n",
    "#### Note\n",
    "The following illustration will introduce you to the basics of Genetic algorithms. We insist you to write a mutation function and a crossover function on your own. \n",
    "[This](https://towardsdatascience.com/genetic-algorithm-implementation-in-python-5ab67bb124a6) might inspire you."
   ]
  },
  {
   "cell_type": "code",
   "execution_count": 15,
   "metadata": {
    "autoscroll": false,
    "collapsed": false,
    "ein.hycell": false,
    "ein.tags": "worksheet-0",
    "slideshow": {
     "slide_type": "-"
    }
   },
   "outputs": [
    {
     "name": "stdout",
     "output_type": "stream",
     "text": [
      "[ 4.9  2.8 -3.4]\n",
      "-52.413536\n",
      "[-3.5  1.4  4.5]\n",
      "-650.9065999999998\n",
      "[ 0.6 -3.   1.8]\n",
      "-346.734912\n",
      "[0.55 3.8  4.  ]\n",
      "-580.7294\n",
      "[-2.   2.6  3. ]\n",
      "-466.0136000000001\n",
      "[-5. -5. -5.]\n",
      "-26.0\n"
     ]
    }
   ],
   "source": [
    "'''This snippet is for illustration only, the actual functions should not be hardcoded!'''\n",
    "\n",
    "import numpy as np\n",
    "eg = np.array([[4.9,2.8,-3.4],[-3.5,1.4,4.5],[0.6,-3,1.8],[0.55,3.8,4.0],[-2, 2.6, 3]])\n",
    "\n",
    "def my_pol(x1, x2, x3):\n",
    "    return x1 + x2**2 + x3 -(x3**3)\n",
    "\n",
    "def scale_and_shift:\n",
    "    # TODO\n",
    "\n",
    "for x in eg:\n",
    "    print(x)\n",
    "    print(my_pol(*scale_and_shift(*x)))"
   ]
  }
 ],
 "metadata": {
  "kernelspec": {
   "argv": [
    "python",
    "-m",
    "ipykernel_launcher",
    "-f",
    "{connection_file}"
   ],
   "display_name": "Python 3",
   "env": null,
   "interrupt_mode": "signal",
   "language": "python",
   "metadata": null,
   "name": "python3"
  },
  "language_info": {
   "codemirror_mode": {
    "name": "ipython",
    "version": 3
   },
   "file_extension": ".py",
   "mimetype": "text/x-python",
   "name": "python",
   "nbconvert_exporter": "python",
   "pygments_lexer": "ipython3",
   "version": "3.7.3"
  },
  "name": "Untitled.ipynb"
 },
 "nbformat": 4,
 "nbformat_minor": 2
}
