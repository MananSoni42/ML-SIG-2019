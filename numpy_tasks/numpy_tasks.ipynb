{
 "cells": [
  {
   "cell_type": "raw",
   "metadata": {},
   "source": [
    "Question 1:\n",
    "Make a 9x9 numpy array filled with the repeating pattern 1,2,3,1,2,3,..."
   ]
  },
  {
   "cell_type": "code",
   "execution_count": null,
   "metadata": {},
   "outputs": [],
   "source": [
    "# Answer 1"
   ]
  },
  {
   "cell_type": "raw",
   "metadata": {},
   "source": [
    "# Question 2:\n",
    "Write a function that performs min-max scaling on a numpy array across rows \n",
    "\n",
    "Example:\n",
    "Input: [[ 1,  2,  3],    Output: [[  0, 0.5, 1],\n",
    "        [10, 15, 20],             [  0, 0.5, 1],\n",
    "        [-5,-11,  9]]             [0.3,   0, 1]]"
   ]
  },
  {
   "cell_type": "code",
   "execution_count": null,
   "metadata": {},
   "outputs": [],
   "source": [
    "# Answer 2 - using for loops"
   ]
  },
  {
   "cell_type": "code",
   "execution_count": null,
   "metadata": {},
   "outputs": [],
   "source": [
    "# Answer 2 - without using for loops"
   ]
  },
  {
   "cell_type": "raw",
   "metadata": {},
   "source": [
    "Question 3:\n",
    "Find index of the element of the array which is closest to a given value\n",
    "\n",
    "Example:\n",
    "Input: [[ 4.5,  - 5,     83],    \n",
    "        [5.11, 5.25,     20],    \n",
    "        [  -5,   42,  69.99]]\n",
    "        \n",
    "       val = 5\n",
    "       \n",
    "Output: index = (1,0)"
   ]
  },
  {
   "cell_type": "code",
   "execution_count": null,
   "metadata": {},
   "outputs": [],
   "source": [
    "# Answer 3 - using for loops"
   ]
  },
  {
   "cell_type": "code",
   "execution_count": null,
   "metadata": {},
   "outputs": [],
   "source": [
    "# Answer 3 - without using for loops"
   ]
  },
  {
   "cell_type": "raw",
   "metadata": {},
   "source": [
    "Question 4:\n",
    "Implement A sliding window average of a given array\n",
    "\n",
    "Example: https://www.youtube.com/watch?v=ZoaEDbivmOE"
   ]
  },
  {
   "cell_type": "code",
   "execution_count": null,
   "metadata": {},
   "outputs": [],
   "source": [
    "# Answer 4 - using for loops"
   ]
  },
  {
   "cell_type": "raw",
   "metadata": {},
   "source": [
    "(optional) Question 5 - Implement John Conway's Game of Life\n",
    "\n",
    "You can read about the rules of the game and play it at: https://bitstorm.org/gameoflife/"
   ]
  },
  {
   "cell_type": "code",
   "execution_count": null,
   "metadata": {},
   "outputs": [],
   "source": [
    "# Answer 5"
   ]
  }
 ],
 "metadata": {
  "kernelspec": {
   "display_name": "Python 3",
   "language": "python",
   "name": "python3"
  },
  "language_info": {
   "codemirror_mode": {
    "name": "ipython",
    "version": 3
   },
   "file_extension": ".py",
   "mimetype": "text/x-python",
   "name": "python",
   "nbconvert_exporter": "python",
   "pygments_lexer": "ipython3",
   "version": "3.6.7"
  }
 },
 "nbformat": 4,
 "nbformat_minor": 2
}
