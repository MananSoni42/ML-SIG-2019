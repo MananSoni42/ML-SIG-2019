{
 "cells": [
  {
   "cell_type": "markdown",
   "metadata": {},
   "source": [
    "# Question 1:\n",
    "### Make a 9x9 numpy array filled with the repeating pattern 1,2,3,1,2,3,..."
   ]
  },
  {
   "cell_type": "code",
   "execution_count": null,
   "metadata": {},
   "outputs": [],
   "source": [
    "# Answer 1"
   ]
  },
  {
   "cell_type": "markdown",
   "metadata": {},
   "source": [
    "# Question 2:\n",
    "### Write a function that performs min-max scaling on a numpy array across rows \n",
    "\n",
    "## Example:\n",
    "\n",
    "### Input \n",
    "$\\begin{bmatrix}1& 2& 3\\\\10 & 15 & 20 \\\\ -5 & -11&  9\\end{bmatrix}$\n",
    "    \n",
    "### Output\n",
    "$\\begin{bmatrix} 0 & 0.5 & 1 \\\\ 0 & 0.5 & 1 \\\\ 0.3 & 0 & 1 \\end{bmatrix}$\n"
   ]
  },
  {
   "cell_type": "code",
   "execution_count": null,
   "metadata": {},
   "outputs": [],
   "source": [
    "# Answer 2 - using for loops"
   ]
  },
  {
   "cell_type": "code",
   "execution_count": null,
   "metadata": {},
   "outputs": [],
   "source": [
    "# Answer 2 - without using for loops"
   ]
  },
  {
   "cell_type": "markdown",
   "metadata": {},
   "source": [
    "# Question 3:\n",
    "### Find index of the element of the array which is closest to a given value\n",
    "\n",
    "## Example:\n",
    "\n",
    "### Input \n",
    "$\\begin{bmatrix}4.5& -5& 83\\\\5.11 & 5.25 & 20 \\\\ -5 & 42&  69.99\\end{bmatrix}$\n",
    "    \n",
    "val = 5\n",
    "\n",
    "### Output\n",
    "\n",
    "index = (1, 0)\n"
   ]
  },
  {
   "cell_type": "code",
   "execution_count": null,
   "metadata": {},
   "outputs": [],
   "source": [
    "# Answer 3 - using for loops"
   ]
  },
  {
   "cell_type": "code",
   "execution_count": null,
   "metadata": {},
   "outputs": [],
   "source": [
    "# Answer 3 - without using for loops"
   ]
  },
  {
   "cell_type": "markdown",
   "metadata": {},
   "source": [
    "# Question 4:\n",
    "### Implement A sliding window average of a given array\n",
    "\n",
    "Example: https://www.youtube.com/watch?v=ZoaEDbivmOE"
   ]
  },
  {
   "cell_type": "code",
   "execution_count": null,
   "metadata": {},
   "outputs": [],
   "source": [
    "# Answer 4 - using for loops"
   ]
  },
  {
   "cell_type": "markdown",
   "metadata": {},
   "source": [
    "# (Optional) Question 5\n",
    "### Implement John Conway's Game of Life\n",
    "\n",
    "You can read about the rules of the game and play it at: https://bitstorm.org/gameoflife/"
   ]
  },
  {
   "cell_type": "code",
   "execution_count": null,
   "metadata": {},
   "outputs": [],
   "source": [
    "# Answer 5"
   ]
  },
  {
   "cell_type": "markdown",
   "metadata": {},
   "source": [
    "# Final Task \n",
    "## Implement edge detection using a Sobel Filter\n",
    "Read more about Sobel filter : [Wikipedia article](https://en.wikipedia.org/wiki/Sobel_operator \"Sobel Operator\")\n",
    "Some sample code to display the results is already given\n",
    "\n"
   ]
  },
  {
   "cell_type": "code",
   "execution_count": 32,
   "metadata": {},
   "outputs": [
    {
     "ename": "SyntaxError",
     "evalue": "invalid syntax (<ipython-input-32-3cf2b3b4e37e>, line 29)",
     "output_type": "error",
     "traceback": [
      "\u001b[0;36m  File \u001b[0;32m\"<ipython-input-32-3cf2b3b4e37e>\"\u001b[0;36m, line \u001b[0;32m29\u001b[0m\n\u001b[0;31m    dx =\u001b[0m\n\u001b[0m         ^\u001b[0m\n\u001b[0;31mSyntaxError\u001b[0m\u001b[0;31m:\u001b[0m invalid syntax\n"
     ]
    }
   ],
   "source": [
    "%matplotlib inline\n",
    "# Note: DO NOT USE THE SCIPY INBUILT FUNCTION. CONVOLVE USING FILTERS AND NORMALIZE\n",
    "import scipy\n",
    "import imageio\n",
    "import matplotlib.pyplot as plt\n",
    "import numpy as np\n",
    "\n",
    "im = imageio.imread('./fig01.jpg').astype(\"int32\")\n",
    "grey_img = None #convert image to greyscale \n",
    "\n",
    "grey_shape = list(im.shape)\n",
    "grey_shape[-1] = 1\n",
    "grey_shape = tuple(grey_shape)\n",
    "\n",
    "assert grey_img.shape == grey_shape\n",
    "ax1 = plt.subplot(323)\n",
    "ax2 = plt.subplot(322)\n",
    "ax3 = plt.subplot(324)\n",
    "ax4 = plt.subplot(326)\n",
    "\n",
    "## Initializing the sobel filter\n",
    "filterx = np.array([[3, 0 ,-3],\n",
    "                      [10 , 0 , -10],\n",
    "                      [3, 0 ,-3]])\n",
    "filtery = filterx.T\n",
    "\n",
    "## Fill the code below\n",
    "\n",
    "dx = # Derivative of image in X direction\n",
    "dy = # Derivative of image in Y direction\n",
    "mag =  # Net magnitude of derivative\n",
    "normalized =  # Normalize using max value\n",
    "\n",
    "## End\n",
    "## Plot it\n",
    "ax1.imshow(im)\n",
    "ax2.imshow(dx)\n",
    "ax3.imshow(dy)\n",
    "ax4.imshow(normalized)\n",
    "plt.show()"
   ]
  },
  {
   "cell_type": "markdown",
   "metadata": {},
   "source": [
    "# All Done?\n",
    "## Checkout these advanced guides\n",
    "\n",
    "### [Advanced Numpy](https://scipy-lectures.org/advanced/advanced_numpy/index.html)\n",
    "### [Image Processing](https://scipy-lectures.org/advanced/image_processing/index.html)"
   ]
  },
  {
   "cell_type": "code",
   "execution_count": null,
   "metadata": {},
   "outputs": [],
   "source": []
  }
 ],
 "metadata": {
  "kernelspec": {
   "display_name": "Python 3",
   "language": "python",
   "name": "python3"
  },
  "language_info": {
   "codemirror_mode": {
    "name": "ipython",
    "version": 3
   },
   "file_extension": ".py",
   "mimetype": "text/x-python",
   "name": "python",
   "nbconvert_exporter": "python",
   "pygments_lexer": "ipython3",
   "version": "3.7.3"
  }
 },
 "nbformat": 4,
 "nbformat_minor": 2
}
